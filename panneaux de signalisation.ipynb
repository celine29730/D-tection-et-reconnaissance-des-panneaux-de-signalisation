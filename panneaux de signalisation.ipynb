{
 "cells": [
  {
   "cell_type": "markdown",
   "metadata": {},
   "source": [
    "# Détection et reconnaissance des panneaux de signalisation"
   ]
  },
  {
   "cell_type": "markdown",
   "metadata": {},
   "source": [
    "**Objectif de l'étude**: construire un modèle IA pour la détection et la reconnaissance des panneaux \n",
    "de signalisation sur les images et sur la vidéo."
   ]
  },
  {
   "cell_type": "markdown",
   "metadata": {},
   "source": [
    "### Contexte du projet\n",
    "\n",
    "Dans le monde de l'IA des grandes entreprises comme Tesla, Uber, Google, Mercedes-Benz, etc. travaillent sur des \n",
    "véhicules autonomes et des voitures autonomes. Pour atteindre la précision de cette technologie, les véhicules \n",
    "doivent être capables d'interpréter les panneaux de signalisation et de prendre des décisions en conséquence. \n",
    "Votre objectif est de construire un modèle qui permet de réaliser cette tâche.\n",
    "\n",
    "Une interface graphique est demandée:\n",
    "\n",
    "    * Qui permet de détecter dans une image les panneaux de signalisation et les reconnaitre (Afficher le label en Français).\n",
    "    * Qui permet de détecter tous les panneaux dans une vidéo les reconnaitre et les afficher avec leurs labels.\n",
    "\n",
    "\n"
   ]
  },
  {
   "cell_type": "markdown",
   "metadata": {},
   "source": [
    "## Description des fichiers"
   ]
  },
  {
   "cell_type": "markdown",
   "metadata": {},
   "source": [
    "L'ensemble de données que nous allons utiliser pour former notre propre classificateur de panneaux de signalisation \n",
    "personnalisé est un ensemble de données qui comprend 43 classes de panneaux de signalisation et près de 50 000 \n",
    "images.\n",
    "\n",
    "Il existe plusieurs types de panneaux de signalisation tels que les limitations de vitesse, es feux de signalisation\n",
    ", tourner à gauche ou à droite, pas de passage de véhicules lourds, etc. La classification des panneaux de \n",
    "signalisation est le processus d'identification de la classe à laquelle appartient un panneau de signalisation.\n",
    "\n",
    "La définition de nos 43 classes de panneaux se trouve dans le répertoire \"Meta\" où figure nos 43 panneaux type.\n",
    "le fichier Meta.csv reprend ces 43 images ainsi que toutes les caractéristiques individuelles des panneaux(image,\n",
    "Numéro de classe, taille,couleur...).\n",
    "\n",
    "Notre jeu de données est déjà fractionné en jeu d'apprentissage et de test.\n",
    "Les images ainsi que leur caractéristiques propres figurent respectivement dans les fichiers Train.csv et Test.csv.\n",
    "L'ensemble de données a un dossier train qui contient des images à l'intérieur de chaque classe et un dossier de test que nous utiliserons pour tester notre modèle.\n",
    "\n",
    "Dans notre projet, nous allons créer un modèle de réseau neuronal profond qui peut classer les panneaux de \n",
    "signalisation présents dans l'image dans différentes catégories. Avec ce modèle, nous sommes capables de lire et \n",
    "de comprendre les panneaux de signalisation qui sont une tâche très importante pour tous les véhicules autonomes.\n",
    "\n"
   ]
  },
  {
   "cell_type": "markdown",
   "metadata": {},
   "source": [
    "## Importation des librairies"
   ]
  },
  {
   "cell_type": "code",
   "execution_count": 1,
   "metadata": {},
   "outputs": [],
   "source": [
    "\n",
    "\n",
    "import time\n",
    "import numpy as np \n",
    "import pandas as pd\n",
    "import os\n",
    "import cv2\n",
    "from PIL import Image\n",
    "import matplotlib.pyplot as plt\n",
    "import tensorflow as tf\n",
    "from tensorflow import keras\n",
    "from sklearn.model_selection import train_test_split\n",
    "from sklearn.metrics import accuracy_score\n",
    "np.random.seed(42)\n",
    "tf.random.set_seed(42)\n",
    "from keras.utils import to_categorical\n",
    "from keras.models import Sequential, load_model\n",
    "from keras.layers import Conv2D, MaxPool2D, Dense, Flatten, Dropout\n",
    "\n",
    "\n"
   ]
  },
  {
   "cell_type": "markdown",
   "metadata": {},
   "source": [
    "## Lecture des fichiers"
   ]
  },
  {
   "cell_type": "code",
   "execution_count": 2,
   "metadata": {},
   "outputs": [],
   "source": [
    "input_path = 'C:/Users/utilisateur/Google Drive/microsoft_ia/panneaux de signalisation/'\n",
    "data_train = pd.read_csv(input_path + 'Train.csv',header=None)\n",
    "data_test = pd.read_csv(input_path + 'Test.csv',header=None)\n",
    "data_meta = pd.read_csv(input_path + 'Meta.csv',header=0)"
   ]
  },
  {
   "cell_type": "code",
   "execution_count": 3,
   "metadata": {},
   "outputs": [
    {
     "data": {
      "text/html": [
       "<div>\n",
       "<style scoped>\n",
       "    .dataframe tbody tr th:only-of-type {\n",
       "        vertical-align: middle;\n",
       "    }\n",
       "\n",
       "    .dataframe tbody tr th {\n",
       "        vertical-align: top;\n",
       "    }\n",
       "\n",
       "    .dataframe thead th {\n",
       "        text-align: right;\n",
       "    }\n",
       "</style>\n",
       "<table border=\"1\" class=\"dataframe\">\n",
       "  <thead>\n",
       "    <tr style=\"text-align: right;\">\n",
       "      <th></th>\n",
       "      <th>Path</th>\n",
       "      <th>ClassId</th>\n",
       "      <th>ShapeId</th>\n",
       "      <th>ColorId</th>\n",
       "      <th>SignId</th>\n",
       "    </tr>\n",
       "  </thead>\n",
       "  <tbody>\n",
       "    <tr>\n",
       "      <th>0</th>\n",
       "      <td>Meta/27.png</td>\n",
       "      <td>27</td>\n",
       "      <td>0</td>\n",
       "      <td>0</td>\n",
       "      <td>1.32</td>\n",
       "    </tr>\n",
       "    <tr>\n",
       "      <th>1</th>\n",
       "      <td>Meta/0.png</td>\n",
       "      <td>0</td>\n",
       "      <td>1</td>\n",
       "      <td>0</td>\n",
       "      <td>3.29</td>\n",
       "    </tr>\n",
       "    <tr>\n",
       "      <th>2</th>\n",
       "      <td>Meta/1.png</td>\n",
       "      <td>1</td>\n",
       "      <td>1</td>\n",
       "      <td>0</td>\n",
       "      <td>3.29</td>\n",
       "    </tr>\n",
       "    <tr>\n",
       "      <th>3</th>\n",
       "      <td>Meta/10.png</td>\n",
       "      <td>10</td>\n",
       "      <td>1</td>\n",
       "      <td>0</td>\n",
       "      <td>3.27</td>\n",
       "    </tr>\n",
       "    <tr>\n",
       "      <th>4</th>\n",
       "      <td>Meta/11.png</td>\n",
       "      <td>11</td>\n",
       "      <td>0</td>\n",
       "      <td>0</td>\n",
       "      <td>1.22</td>\n",
       "    </tr>\n",
       "    <tr>\n",
       "      <th>5</th>\n",
       "      <td>Meta/12.png</td>\n",
       "      <td>12</td>\n",
       "      <td>2</td>\n",
       "      <td>2</td>\n",
       "      <td>2.3</td>\n",
       "    </tr>\n",
       "    <tr>\n",
       "      <th>6</th>\n",
       "      <td>Meta/13.png</td>\n",
       "      <td>13</td>\n",
       "      <td>4</td>\n",
       "      <td>0</td>\n",
       "      <td>2.1</td>\n",
       "    </tr>\n",
       "    <tr>\n",
       "      <th>7</th>\n",
       "      <td>Meta/14.png</td>\n",
       "      <td>14</td>\n",
       "      <td>3</td>\n",
       "      <td>0</td>\n",
       "      <td>2.2</td>\n",
       "    </tr>\n",
       "    <tr>\n",
       "      <th>8</th>\n",
       "      <td>Meta/15.png</td>\n",
       "      <td>15</td>\n",
       "      <td>1</td>\n",
       "      <td>0</td>\n",
       "      <td>3.1</td>\n",
       "    </tr>\n",
       "    <tr>\n",
       "      <th>9</th>\n",
       "      <td>Meta/16.png</td>\n",
       "      <td>16</td>\n",
       "      <td>1</td>\n",
       "      <td>0</td>\n",
       "      <td>3.3</td>\n",
       "    </tr>\n",
       "    <tr>\n",
       "      <th>10</th>\n",
       "      <td>Meta/17.png</td>\n",
       "      <td>17</td>\n",
       "      <td>1</td>\n",
       "      <td>0</td>\n",
       "      <td>3.21</td>\n",
       "    </tr>\n",
       "    <tr>\n",
       "      <th>11</th>\n",
       "      <td>Meta/18.png</td>\n",
       "      <td>18</td>\n",
       "      <td>0</td>\n",
       "      <td>0</td>\n",
       "      <td>1.39</td>\n",
       "    </tr>\n",
       "    <tr>\n",
       "      <th>12</th>\n",
       "      <td>Meta/19.png</td>\n",
       "      <td>19</td>\n",
       "      <td>0</td>\n",
       "      <td>0</td>\n",
       "      <td>1.2</td>\n",
       "    </tr>\n",
       "    <tr>\n",
       "      <th>13</th>\n",
       "      <td>Meta/2.png</td>\n",
       "      <td>2</td>\n",
       "      <td>1</td>\n",
       "      <td>0</td>\n",
       "      <td>3.29</td>\n",
       "    </tr>\n",
       "    <tr>\n",
       "      <th>14</th>\n",
       "      <td>Meta/20.png</td>\n",
       "      <td>20</td>\n",
       "      <td>0</td>\n",
       "      <td>0</td>\n",
       "      <td>1.1</td>\n",
       "    </tr>\n",
       "    <tr>\n",
       "      <th>15</th>\n",
       "      <td>Meta/21.png</td>\n",
       "      <td>21</td>\n",
       "      <td>0</td>\n",
       "      <td>0</td>\n",
       "      <td>1.3.2</td>\n",
       "    </tr>\n",
       "    <tr>\n",
       "      <th>16</th>\n",
       "      <td>Meta/22.png</td>\n",
       "      <td>22</td>\n",
       "      <td>0</td>\n",
       "      <td>0</td>\n",
       "      <td>1.1</td>\n",
       "    </tr>\n",
       "    <tr>\n",
       "      <th>17</th>\n",
       "      <td>Meta/23.png</td>\n",
       "      <td>23</td>\n",
       "      <td>0</td>\n",
       "      <td>0</td>\n",
       "      <td>1.13</td>\n",
       "    </tr>\n",
       "    <tr>\n",
       "      <th>18</th>\n",
       "      <td>Meta/24.png</td>\n",
       "      <td>24</td>\n",
       "      <td>0</td>\n",
       "      <td>0</td>\n",
       "      <td>1.5.2</td>\n",
       "    </tr>\n",
       "    <tr>\n",
       "      <th>19</th>\n",
       "      <td>Meta/25.png</td>\n",
       "      <td>25</td>\n",
       "      <td>0</td>\n",
       "      <td>0</td>\n",
       "      <td>1.37</td>\n",
       "    </tr>\n",
       "    <tr>\n",
       "      <th>20</th>\n",
       "      <td>Meta/26.png</td>\n",
       "      <td>26</td>\n",
       "      <td>0</td>\n",
       "      <td>0</td>\n",
       "      <td>1.24</td>\n",
       "    </tr>\n",
       "    <tr>\n",
       "      <th>21</th>\n",
       "      <td>Meta/28.png</td>\n",
       "      <td>28</td>\n",
       "      <td>0</td>\n",
       "      <td>0</td>\n",
       "      <td>1.33</td>\n",
       "    </tr>\n",
       "    <tr>\n",
       "      <th>22</th>\n",
       "      <td>Meta/29.png</td>\n",
       "      <td>29</td>\n",
       "      <td>0</td>\n",
       "      <td>0</td>\n",
       "      <td>1.34</td>\n",
       "    </tr>\n",
       "    <tr>\n",
       "      <th>23</th>\n",
       "      <td>Meta/3.png</td>\n",
       "      <td>3</td>\n",
       "      <td>1</td>\n",
       "      <td>0</td>\n",
       "      <td>3.29</td>\n",
       "    </tr>\n",
       "    <tr>\n",
       "      <th>24</th>\n",
       "      <td>Meta/30.png</td>\n",
       "      <td>30</td>\n",
       "      <td>0</td>\n",
       "      <td>0</td>\n",
       "      <td>None</td>\n",
       "    </tr>\n",
       "    <tr>\n",
       "      <th>25</th>\n",
       "      <td>Meta/31.png</td>\n",
       "      <td>31</td>\n",
       "      <td>0</td>\n",
       "      <td>0</td>\n",
       "      <td>1.36</td>\n",
       "    </tr>\n",
       "    <tr>\n",
       "      <th>26</th>\n",
       "      <td>Meta/32.png</td>\n",
       "      <td>32</td>\n",
       "      <td>1</td>\n",
       "      <td>3</td>\n",
       "      <td>3.42</td>\n",
       "    </tr>\n",
       "    <tr>\n",
       "      <th>27</th>\n",
       "      <td>Meta/33.png</td>\n",
       "      <td>33</td>\n",
       "      <td>1</td>\n",
       "      <td>1</td>\n",
       "      <td>4.2</td>\n",
       "    </tr>\n",
       "    <tr>\n",
       "      <th>28</th>\n",
       "      <td>Meta/34.png</td>\n",
       "      <td>34</td>\n",
       "      <td>1</td>\n",
       "      <td>1</td>\n",
       "      <td>4.3</td>\n",
       "    </tr>\n",
       "    <tr>\n",
       "      <th>29</th>\n",
       "      <td>Meta/35.png</td>\n",
       "      <td>35</td>\n",
       "      <td>1</td>\n",
       "      <td>1</td>\n",
       "      <td>4.1</td>\n",
       "    </tr>\n",
       "    <tr>\n",
       "      <th>30</th>\n",
       "      <td>Meta/36.png</td>\n",
       "      <td>36</td>\n",
       "      <td>1</td>\n",
       "      <td>1</td>\n",
       "      <td>4.4</td>\n",
       "    </tr>\n",
       "    <tr>\n",
       "      <th>31</th>\n",
       "      <td>Meta/37.png</td>\n",
       "      <td>37</td>\n",
       "      <td>1</td>\n",
       "      <td>1</td>\n",
       "      <td>4.5</td>\n",
       "    </tr>\n",
       "    <tr>\n",
       "      <th>32</th>\n",
       "      <td>Meta/38.png</td>\n",
       "      <td>38</td>\n",
       "      <td>1</td>\n",
       "      <td>1</td>\n",
       "      <td>4.7</td>\n",
       "    </tr>\n",
       "    <tr>\n",
       "      <th>33</th>\n",
       "      <td>Meta/39.png</td>\n",
       "      <td>39</td>\n",
       "      <td>1</td>\n",
       "      <td>1</td>\n",
       "      <td>4.8</td>\n",
       "    </tr>\n",
       "    <tr>\n",
       "      <th>34</th>\n",
       "      <td>Meta/4.png</td>\n",
       "      <td>4</td>\n",
       "      <td>1</td>\n",
       "      <td>0</td>\n",
       "      <td>3.29</td>\n",
       "    </tr>\n",
       "    <tr>\n",
       "      <th>35</th>\n",
       "      <td>Meta/40.png</td>\n",
       "      <td>40</td>\n",
       "      <td>1</td>\n",
       "      <td>1</td>\n",
       "      <td>4.1</td>\n",
       "    </tr>\n",
       "    <tr>\n",
       "      <th>36</th>\n",
       "      <td>Meta/41.png</td>\n",
       "      <td>41</td>\n",
       "      <td>1</td>\n",
       "      <td>3</td>\n",
       "      <td>3.26</td>\n",
       "    </tr>\n",
       "    <tr>\n",
       "      <th>37</th>\n",
       "      <td>Meta/42.png</td>\n",
       "      <td>42</td>\n",
       "      <td>1</td>\n",
       "      <td>3</td>\n",
       "      <td>3.28</td>\n",
       "    </tr>\n",
       "    <tr>\n",
       "      <th>38</th>\n",
       "      <td>Meta/5.png</td>\n",
       "      <td>5</td>\n",
       "      <td>1</td>\n",
       "      <td>0</td>\n",
       "      <td>3.29</td>\n",
       "    </tr>\n",
       "    <tr>\n",
       "      <th>39</th>\n",
       "      <td>Meta/6.png</td>\n",
       "      <td>6</td>\n",
       "      <td>1</td>\n",
       "      <td>3</td>\n",
       "      <td>3.3</td>\n",
       "    </tr>\n",
       "    <tr>\n",
       "      <th>40</th>\n",
       "      <td>Meta/7.png</td>\n",
       "      <td>7</td>\n",
       "      <td>1</td>\n",
       "      <td>0</td>\n",
       "      <td>3.29</td>\n",
       "    </tr>\n",
       "    <tr>\n",
       "      <th>41</th>\n",
       "      <td>Meta/8.png</td>\n",
       "      <td>8</td>\n",
       "      <td>1</td>\n",
       "      <td>0</td>\n",
       "      <td>3.29</td>\n",
       "    </tr>\n",
       "    <tr>\n",
       "      <th>42</th>\n",
       "      <td>Meta/9.png</td>\n",
       "      <td>9</td>\n",
       "      <td>1</td>\n",
       "      <td>0</td>\n",
       "      <td>3.25</td>\n",
       "    </tr>\n",
       "  </tbody>\n",
       "</table>\n",
       "</div>"
      ],
      "text/plain": [
       "           Path  ClassId  ShapeId  ColorId SignId\n",
       "0   Meta/27.png       27        0        0   1.32\n",
       "1    Meta/0.png        0        1        0   3.29\n",
       "2    Meta/1.png        1        1        0   3.29\n",
       "3   Meta/10.png       10        1        0   3.27\n",
       "4   Meta/11.png       11        0        0   1.22\n",
       "5   Meta/12.png       12        2        2    2.3\n",
       "6   Meta/13.png       13        4        0    2.1\n",
       "7   Meta/14.png       14        3        0    2.2\n",
       "8   Meta/15.png       15        1        0    3.1\n",
       "9   Meta/16.png       16        1        0    3.3\n",
       "10  Meta/17.png       17        1        0   3.21\n",
       "11  Meta/18.png       18        0        0   1.39\n",
       "12  Meta/19.png       19        0        0    1.2\n",
       "13   Meta/2.png        2        1        0   3.29\n",
       "14  Meta/20.png       20        0        0    1.1\n",
       "15  Meta/21.png       21        0        0  1.3.2\n",
       "16  Meta/22.png       22        0        0    1.1\n",
       "17  Meta/23.png       23        0        0   1.13\n",
       "18  Meta/24.png       24        0        0  1.5.2\n",
       "19  Meta/25.png       25        0        0   1.37\n",
       "20  Meta/26.png       26        0        0   1.24\n",
       "21  Meta/28.png       28        0        0   1.33\n",
       "22  Meta/29.png       29        0        0   1.34\n",
       "23   Meta/3.png        3        1        0   3.29\n",
       "24  Meta/30.png       30        0        0   None\n",
       "25  Meta/31.png       31        0        0   1.36\n",
       "26  Meta/32.png       32        1        3   3.42\n",
       "27  Meta/33.png       33        1        1    4.2\n",
       "28  Meta/34.png       34        1        1    4.3\n",
       "29  Meta/35.png       35        1        1    4.1\n",
       "30  Meta/36.png       36        1        1    4.4\n",
       "31  Meta/37.png       37        1        1    4.5\n",
       "32  Meta/38.png       38        1        1    4.7\n",
       "33  Meta/39.png       39        1        1    4.8\n",
       "34   Meta/4.png        4        1        0   3.29\n",
       "35  Meta/40.png       40        1        1    4.1\n",
       "36  Meta/41.png       41        1        3   3.26\n",
       "37  Meta/42.png       42        1        3   3.28\n",
       "38   Meta/5.png        5        1        0   3.29\n",
       "39   Meta/6.png        6        1        3    3.3\n",
       "40   Meta/7.png        7        1        0   3.29\n",
       "41   Meta/8.png        8        1        0   3.29\n",
       "42   Meta/9.png        9        1        0   3.25"
      ]
     },
     "execution_count": 3,
     "metadata": {},
     "output_type": "execute_result"
    }
   ],
   "source": [
    "data_meta"
   ]
  },
  {
   "cell_type": "markdown",
   "metadata": {},
   "source": [
    "# Traitement des données"
   ]
  },
  {
   "cell_type": "markdown",
   "metadata": {},
   "source": [
    "On obtient le détail de nos 43 classes de panneaux de signalisation. Nous avons aucune indication concernant\n",
    "le type de panneaux. il faudra par conséquent, dans un second temps, créer un dictionnaire qui va pour chacune de nos\n",
    "classes de panneaux définir un label."
   ]
  },
  {
   "cell_type": "markdown",
   "metadata": {},
   "source": [
    "On va s'intéresser tout d'abord à notre jeu d'entraînemnt et afficher le nombre d'enregistrements dans chaque catégorie\n",
    "de panneaux."
   ]
  },
  {
   "cell_type": "code",
   "execution_count": 4,
   "metadata": {},
   "outputs": [
    {
     "data": {
      "text/plain": [
       "2          2250\n",
       "1          2220\n",
       "13         2160\n",
       "12         2100\n",
       "38         2070\n",
       "10         2010\n",
       "4          1980\n",
       "5          1860\n",
       "25         1500\n",
       "9          1470\n",
       "7          1440\n",
       "8          1410\n",
       "3          1410\n",
       "11         1320\n",
       "18         1200\n",
       "35         1200\n",
       "17         1110\n",
       "31          780\n",
       "14          780\n",
       "33          689\n",
       "15          630\n",
       "26          600\n",
       "28          540\n",
       "23          510\n",
       "30          450\n",
       "16          420\n",
       "6           420\n",
       "34          420\n",
       "36          390\n",
       "22          390\n",
       "20          360\n",
       "40          360\n",
       "21          330\n",
       "39          300\n",
       "29          270\n",
       "24          270\n",
       "32          240\n",
       "27          240\n",
       "41          240\n",
       "42          240\n",
       "19          210\n",
       "37          210\n",
       "0           210\n",
       "ClassId       1\n",
       "Name: 6, dtype: int64"
      ]
     },
     "execution_count": 4,
     "metadata": {},
     "output_type": "execute_result"
    }
   ],
   "source": [
    "# Affichage du nombre d'enregistrements catégorie\n",
    "data_train[data_train.columns[6]].value_counts()"
   ]
  },
  {
   "cell_type": "markdown",
   "metadata": {},
   "source": [
    "L'ensemble de données contient plus de 50 000 images de différents panneaux de signalisation. Il est en outre \n",
    "classé en 43 classes différentes. Le jeu de données est assez variable, certaines classes ont de nombreuses \n",
    "images tandis que certaines classes ont peu d'images.\n",
    "\n",
    "Au vu de nos résultats, nous constatons que le tableau est classé par nombre d'occurrences et non par numéro de classes.\n",
    "On va donc faire un trier les occurrences par classe."
   ]
  },
  {
   "cell_type": "code",
   "execution_count": 5,
   "metadata": {},
   "outputs": [
    {
     "name": "stdout",
     "output_type": "stream",
     "text": [
      "[ 210 2220 2010 1320 2100 2160  780  630  420 1110 1200  210 2250  360\n",
      "  330  390  510  270 1500  600  240  540  270 1410  450  780  240  689\n",
      "  420 1200  390  210 2070  300 1980  360  240  240 1860  420 1440 1410\n",
      " 1470]\n"
     ]
    }
   ],
   "source": [
    "sorted_series = data_train[6].value_counts().sort_index(ignore_index=True)\n",
    "dt_label_count_array = sorted_series.to_numpy()\n",
    "y = dt_label_count_array[0:43]\n",
    "print(y)"
   ]
  },
  {
   "cell_type": "markdown",
   "metadata": {},
   "source": [
    "### On va créer un dictionnaire de labels pour chacune de nos classes de panneaux de signalisations"
   ]
  },
  {
   "cell_type": "code",
   "execution_count": 6,
   "metadata": {},
   "outputs": [],
   "source": [
    "#dictionnaire pour étiqueter toutes les classes de panneaux de signalisation.\n",
    "\n",
    "\n",
    "#dictionary to label all traffic signs class.\n",
    "x = ['limitation de vitesse (20km/h)','limitation de vitesse (30km/h)','limitation de vitesse (50km/h)','limitation de vitesse (60km/h)', \n",
    "            'limitation de vitesse (70km/h)', \n",
    "            'limitation de vitesse (80km/h)', \n",
    "            'Fin de limitation de vitesse (80km/h)', \n",
    "            'limitation de vitesse (100km/h)', \n",
    "            'limitation de vitesse (120km/h)', \n",
    "            'Dépassement Interdit', \n",
    "            'Aucun véhicule passant de plus de 3,5 tonnes', \n",
    "            'Priorité ponctuelle', \n",
    "            'Route prioritaire', \n",
    "            'Cedez le passage', \n",
    "            'Stop', \n",
    "            'Circulation interdite', \n",
    "            'Interdit aux véhicules de plus de 3t', \n",
    "            'Sens interdit', \n",
    "            'Autres dangers', \n",
    "            'Virage à gauche', \n",
    "            'Virage à droite', \n",
    "            'Succession de virages', \n",
    "            'Dos âne', \n",
    "            'Chaussée glissante', \n",
    "            'Chaussée rétrécie par la droite', \n",
    "            'Travaux', \n",
    "            'Feux tricolores', \n",
    "            'Passage piétons', \n",
    "            'Lieu fréquenté par les enfants', \n",
    "            'Passage de cyclistes', \n",
    "            'Attention neige ou glace',\n",
    "            'Passage animaux sauvages', \n",
    "            'Fin de limitation de vitesse', \n",
    "            'Obligation de tourner à droite', \n",
    "            'Obligation de tourner à gauche', \n",
    "            'Obligation aller tout droit', \n",
    "            'Aller tout droit ou à droite', \n",
    "            'Aller tout droit ou à gauche', \n",
    "            'Rester à droite', \n",
    "            'Rester à gauche', \n",
    "            'Rond point obligatoire', \n",
    "            'Fin interdiction de dépasser', \n",
    "            'Fin interdiction de dépasser pour les véhicules de plus de 3,5 tonnes']\n",
    "\n",
    "\n",
    "\n"
   ]
  },
  {
   "cell_type": "code",
   "execution_count": 7,
   "metadata": {},
   "outputs": [
    {
     "name": "stderr",
     "output_type": "stream",
     "text": [
      "<ipython-input-7-a480562b8789>:13: MatplotlibDeprecationWarning: Unrecognized location 'left center'. Falling back on 'best'; valid locations are\n",
      "\tbest\n",
      "\tupper right\n",
      "\tupper left\n",
      "\tlower left\n",
      "\tlower right\n",
      "\tright\n",
      "\tcenter left\n",
      "\tcenter right\n",
      "\tlower center\n",
      "\tupper center\n",
      "\tcenter\n",
      "This will raise an exception in 3.3.\n",
      "  plt.legend(patches, labels, loc='left center', bbox_to_anchor=(-0.1, 1.),\n"
     ]
    },
    {
     "data": {
      "image/png": "[encoded data removed]",
      "text/plain": [
       "<Figure size 432x288 with 1 Axes>"
      ]
     },
     "metadata": {},
     "output_type": "display_data"
    }
   ],
   "source": [
    "\n",
    "\n",
    "# colors = ['yellowgreen','red','gold','lightskyblue','white','lightcoral','blue','pink', 'darkgreen','yellow','grey','violet','magenta','cyan']\n",
    "porcent = 100.*y/y.sum()\n",
    "\n",
    "patches, texts = plt.pie(y, startangle=90, radius=1.2)\n",
    "labels = ['{0} - {1:1.2f} %'.format(i,j) for i,j in zip(x, porcent)]\n",
    "\n",
    "sort_legend = True\n",
    "if sort_legend:\n",
    "    patches, labels, dummy =  zip(*sorted(zip(patches, labels, y),\n",
    "                                          key=lambda x: x[2],\n",
    "                                          reverse=True))\n",
    "\n",
    "plt.legend(patches, labels, loc='left center', bbox_to_anchor=(-0.1, 1.),\n",
    "           fontsize=8)\n",
    "\n",
    "plt.savefig('piechart.png', bbox_inches='tight')\n",
    "\n"
   ]
  },
  {
   "cell_type": "markdown",
   "metadata": {},
   "source": [
    "On obtient une répartition en pourcentage de nos images de panneaux de signalisation."
   ]
  },
  {
   "cell_type": "code",
   "execution_count": 8,
   "metadata": {},
   "outputs": [],
   "source": [
    "data = []\n",
    "labels = []\n",
    "classes = 43\n",
    "cur_path = os.getcwd()\n",
    "\n",
    "#Retrieving the images and their labels \n",
    "for i in range(classes):\n",
    "    path = os.path.join(cur_path,'train',str(i))\n",
    "    images = os.listdir(path)\n",
    "\n",
    "    for a in images:\n",
    "        try:\n",
    "            image = Image.open(path + '\\\\'+ a)\n",
    "            image = image.resize((30,30))\n",
    "            image = np.array(image)\n",
    "            #sim = Image.fromarray(image)\n",
    "            data.append(image)\n",
    "            labels.append(i)\n",
    "        except:\n",
    "            print(\"Error loading image\")"
   ]
  },
  {
   "cell_type": "markdown",
   "metadata": {},
   "source": [
    "Notre dossier «train» contient 43 dossiers représentant chacun une classe différente. La plage du dossier va de 0\n",
    "à 42. Avec l'aide du module OS, nous parcourons toutes les classes et ajoutons des images et leurs étiquettes respectives \n",
    "dans la liste des données et des étiquettes.\n",
    "\n"
   ]
  },
  {
   "cell_type": "code",
   "execution_count": 9,
   "metadata": {},
   "outputs": [
    {
     "name": "stdout",
     "output_type": "stream",
     "text": [
      "(39209, 30, 30, 3) (39209,)\n"
     ]
    }
   ],
   "source": [
    "#Convertir des listes en tableaux numpy\n",
    "\n",
    "data = np.array(data)\n",
    "labels = np.array(labels)\n",
    "\n",
    "print(data.shape, labels.shape)\n"
   ]
  },
  {
   "cell_type": "markdown",
   "metadata": {},
   "source": [
    "Nous avons stocké toutes les images et leurs étiquettes dans des listes (données et étiquettes).\n",
    "\n",
    "On a convertit la liste en tableaux numpy pour alimenter le modèle.\n",
    "\n",
    "La forme des données est (39209, 30, 30, 3), ce qui signifie qu'il y a 39 209 images de taille 30 × 30 pixels et \n",
    "3 signifie que les données contiennent des images en couleur.\n",
    "\n",
    "Avec le package sklearn, nous utilisons la méthode train_test_split () pour fractionner les données d'entraînement\n",
    "et de test.\n",
    "\n",
    "À partir du package keras.utils, nous utilisons la méthode to_categorical pour convertir les étiquettes présentes\n",
    "dans y_train et y_test en un encodage.\n"
   ]
  },
  {
   "cell_type": "code",
   "execution_count": 10,
   "metadata": {},
   "outputs": [
    {
     "name": "stdout",
     "output_type": "stream",
     "text": [
      "(31367, 30, 30, 3) (7842, 30, 30, 3) (31367,) (7842,)\n"
     ]
    }
   ],
   "source": [
    "#Fractionnement du jeu de données d'apprentissage et de test\n",
    "X_train, X_test, y_train, y_test = train_test_split(data, labels, test_size=0.2, random_state=42)\n",
    "\n",
    "print(X_train.shape, X_test.shape, y_train.shape, y_test.shape)\n"
   ]
  },
  {
   "cell_type": "markdown",
   "metadata": {},
   "source": [
    "Notre jeu de données comprend donc 31367 images couleurs 30 x 30 pixels contre 7842 images couleurs pour le \n",
    "jeu de test."
   ]
  },
  {
   "cell_type": "code",
   "execution_count": 11,
   "metadata": {},
   "outputs": [],
   "source": [
    "#Conversion des étiquettes en un seul encodage.\n",
    "\n",
    "y_train = to_categorical(y_train, 43)\n",
    "y_test = to_categorical(y_test, 43)"
   ]
  },
  {
   "cell_type": "markdown",
   "metadata": {},
   "source": [
    "# Contruction du modèle CNN"
   ]
  },
  {
   "cell_type": "markdown",
   "metadata": {},
   "source": [
    "Pour classer les images dans leurs catégories respectives, nous allons construire un modèle CNN (Convolutional Neural Network).\n",
    "CNN est le meilleur à des fins de classification d'images.\n",
    "\n"
   ]
  },
  {
   "cell_type": "markdown",
   "metadata": {},
   "source": [
    "L'architecture de notre modèle est:\n",
    "\n",
    "    * 2 Couches Conv2D (filtre = 32, kernel_size = (5,5), activation = \"relu\")\n",
    "    * Couche MaxPool2D (pool_size = (2,2)) (Méthode maxpooling)\n",
    "    * Couche d'abandon (taux = 0,25)\n",
    "    * 2 Calques Conv2D (filtre = 64, kernel_size = (3,3), activation = \"relu\") (on utilise 64 Kernels)\n",
    "    * Couche MaxPool2D (pool_size = (2,2))\n",
    "    * Couche d'abandon (taux = 0,25)\n",
    "    * Aplatir le calque pour presser les calques en 1 dimension\n",
    "    * Couche dense entièrement connectée (256 nœuds, activation = \"relu\")\n",
    "    * Couche d'abandon (taux = 0,5)\n",
    "    * Couche dense (43 nœuds, activation = \"softmax\") (fonction d'activation softmax pour une classification multiclasse)\n",
    "\n"
   ]
  },
  {
   "cell_type": "markdown",
   "metadata": {},
   "source": [
    "On va compiler le modèle avec l'optimiseur Adam qui fonctionne bien et la perte est «categorical_crossentropy» \n",
    "car nous avons plusieurs classes à catégoriser.\n",
    "\n"
   ]
  },
  {
   "cell_type": "code",
   "execution_count": 12,
   "metadata": {},
   "outputs": [],
   "source": [
    "#Construction du modèle\n",
    "\n",
    "model = Sequential()\n",
    "model.add(Conv2D(filters=32, kernel_size=(5,5), activation='relu', input_shape=X_train.shape[1:]))\n",
    "model.add(Conv2D(filters=32, kernel_size=(5,5), activation='relu'))\n",
    "model.add(MaxPool2D(pool_size=(2, 2)))\n",
    "model.add(Dropout(rate=0.25))\n",
    "model.add(Conv2D(filters=64, kernel_size=(3, 3), activation='relu'))\n",
    "model.add(Conv2D(filters=64, kernel_size=(3, 3), activation='relu'))\n",
    "model.add(MaxPool2D(pool_size=(2, 2)))\n",
    "model.add(Dropout(rate=0.25))\n",
    "model.add(Flatten())\n",
    "model.add(Dense(256, activation='relu'))\n",
    "model.add(Dropout(rate=0.5))\n",
    "model.add(Dense(43, activation='softmax'))\n",
    "\n",
    "#Compilation du modèle\n",
    "\n",
    "model.compile(loss='categorical_crossentropy', optimizer='adam', metrics=['accuracy'])"
   ]
  },
  {
   "cell_type": "markdown",
   "metadata": {},
   "source": [
    "# Entraînement et validation du modèle"
   ]
  },
  {
   "cell_type": "markdown",
   "metadata": {},
   "source": [
    "Après avoir construit l'architecture du modèle, nous entraînons le modèle à l'aide de model.fit (). \n",
    "Notre modèle fonctionnait mieux avec la taille de lot 64 contre 32. \n",
    "Et après 15 épochs, la précision était stable.\n",
    "\n"
   ]
  },
  {
   "cell_type": "code",
   "execution_count": 13,
   "metadata": {},
   "outputs": [
    {
     "name": "stdout",
     "output_type": "stream",
     "text": [
      "Epoch 1/15\n",
      "981/981 [==============================] - 150s 151ms/step - loss: 2.9737 - accuracy: 0.3210 - val_loss: 0.4633 - val_accuracy: 0.8845\n",
      "Epoch 2/15\n",
      "981/981 [==============================] - 132s 135ms/step - loss: 0.8003 - accuracy: 0.7628 - val_loss: 0.2375 - val_accuracy: 0.9408\n",
      "Epoch 3/15\n",
      "981/981 [==============================] - 143s 146ms/step - loss: 0.4986 - accuracy: 0.8499 - val_loss: 0.1221 - val_accuracy: 0.9625\n",
      "Epoch 4/15\n",
      "981/981 [==============================] - 131s 134ms/step - loss: 0.3780 - accuracy: 0.8896 - val_loss: 0.1000 - val_accuracy: 0.9722\n",
      "Epoch 5/15\n",
      "981/981 [==============================] - 131s 134ms/step - loss: 0.2993 - accuracy: 0.9149 - val_loss: 0.0735 - val_accuracy: 0.9778\n",
      "Epoch 6/15\n",
      "981/981 [==============================] - 132s 135ms/step - loss: 0.2823 - accuracy: 0.9197 - val_loss: 0.0682 - val_accuracy: 0.9806\n",
      "Epoch 7/15\n",
      "981/981 [==============================] - 128s 131ms/step - loss: 0.2577 - accuracy: 0.9302 - val_loss: 0.0692 - val_accuracy: 0.9791\n",
      "Epoch 8/15\n",
      "981/981 [==============================] - 129s 131ms/step - loss: 0.2329 - accuracy: 0.9362 - val_loss: 0.0745 - val_accuracy: 0.9787\n",
      "Epoch 9/15\n",
      "981/981 [==============================] - 125s 127ms/step - loss: 0.2142 - accuracy: 0.9418 - val_loss: 0.0372 - val_accuracy: 0.9890\n",
      "Epoch 10/15\n",
      "981/981 [==============================] - 123s 125ms/step - loss: 0.2039 - accuracy: 0.9458 - val_loss: 0.0372 - val_accuracy: 0.9893\n",
      "Epoch 11/15\n",
      "981/981 [==============================] - 126s 128ms/step - loss: 0.2378 - accuracy: 0.9407 - val_loss: 0.0610 - val_accuracy: 0.9833\n",
      "Epoch 12/15\n",
      "981/981 [==============================] - 126s 128ms/step - loss: 0.2166 - accuracy: 0.9430 - val_loss: 0.0422 - val_accuracy: 0.9879\n",
      "Epoch 13/15\n",
      "981/981 [==============================] - 124s 127ms/step - loss: 0.2476 - accuracy: 0.9434 - val_loss: 0.0316 - val_accuracy: 0.9908\n",
      "Epoch 14/15\n",
      "981/981 [==============================] - 126s 128ms/step - loss: 0.1811 - accuracy: 0.9528 - val_loss: 0.0559 - val_accuracy: 0.9847\n",
      "Epoch 15/15\n",
      "981/981 [==============================] - 124s 127ms/step - loss: 0.2154 - accuracy: 0.9438 - val_loss: 0.0463 - val_accuracy: 0.9889\n"
     ]
    }
   ],
   "source": [
    "epochs = 15\n",
    "history = model.fit(X_train, y_train, batch_size=32, epochs=epochs, validation_data=(X_test, y_test))\n",
    "model.save(\"my_model.h5\")"
   ]
  },
  {
   "cell_type": "markdown",
   "metadata": {},
   "source": [
    "Notre modèle a une précision de 94% sur l'ensemble de données d'entraînement. \n",
    "Avec matplotlib, nous traçons le graphique pour la précision et la perte."
   ]
  },
  {
   "cell_type": "code",
   "execution_count": 14,
   "metadata": {},
   "outputs": [
    {
     "data": {
      "image/png": "[encoded data removed]",
      "text/plain": [
       "<Figure size 432x288 with 1 Axes>"
      ]
     },
     "metadata": {
      "needs_background": "light"
     },
     "output_type": "display_data"
    },
    {
     "data": {
      "image/png": "[encoded data removed]",
      "text/plain": [
       "<Figure size 432x288 with 1 Axes>"
      ]
     },
     "metadata": {
      "needs_background": "light"
     },
     "output_type": "display_data"
    }
   ],
   "source": [
    "#Graphique de l'accuracy\n",
    "\n",
    "plt.figure(0)\n",
    "plt.plot(history.history['accuracy'], label='training accuracy')\n",
    "plt.plot(history.history['val_accuracy'], label='val accuracy')\n",
    "plt.title('Accuracy')\n",
    "plt.xlabel('epochs')\n",
    "plt.ylabel('accuracy')\n",
    "plt.legend()\n",
    "plt.show()\n",
    "\n",
    "plt.figure(1)\n",
    "plt.plot(history.history['loss'], label='training loss')\n",
    "plt.plot(history.history['val_loss'], label='val loss')\n",
    "plt.title('Loss')\n",
    "plt.xlabel('epochs')\n",
    "plt.ylabel('loss')\n",
    "plt.legend()\n",
    "plt.show()\n"
   ]
  },
  {
   "cell_type": "markdown",
   "metadata": {},
   "source": [
    "# Validation du modèle sur le jeu de test"
   ]
  },
  {
   "cell_type": "markdown",
   "metadata": {},
   "source": [
    "Notre ensemble de données contient un dossier de test et dans un fichier test.csv, nous avons les détails liés au\n",
    "chemin de l'image et leurs étiquettes de classe respectives. Nous extrayons le chemin de l'image et les étiquettes\n",
    "à l'aide de pandas. Ensuite, pour prédire le modèle, nous devons redimensionner nos images à 30 × 30 pixels et \n",
    "créer un tableau numpy contenant toutes les données d'image. À partir de sklearn.metrics, nous avons importé le \n",
    "precision_score et observé comment notre modèle prédisait les étiquettes réelles. Nous avons atteint une précision\n",
    "de 95% dans ce modèle.\n"
   ]
  },
  {
   "cell_type": "code",
   "execution_count": 15,
   "metadata": {},
   "outputs": [
    {
     "name": "stderr",
     "output_type": "stream",
     "text": [
      "C:\\Users\\utilisateur\\anaconda3\\lib\\site-packages\\tensorflow\\python\\keras\\engine\\sequential.py:450: UserWarning: `model.predict_classes()` is deprecated and will be removed after 2021-01-01. Please use instead:* `np.argmax(model.predict(x), axis=-1)`,   if your model does multi-class classification   (e.g. if it uses a `softmax` last-layer activation).* `(model.predict(x) > 0.5).astype(\"int32\")`,   if your model does binary classification   (e.g. if it uses a `sigmoid` last-layer activation).\n",
      "  warnings.warn('`model.predict_classes()` is deprecated and '\n"
     ]
    },
    {
     "name": "stdout",
     "output_type": "stream",
     "text": [
      "0.956769596199525\n"
     ]
    }
   ],
   "source": [
    "#prédiction sur l'ensemble de données de test\n",
    "\n",
    "from sklearn.metrics import accuracy_score\n",
    "\n",
    "y_test = pd.read_csv('Test.csv')\n",
    "\n",
    "labels = y_test[\"ClassId\"].values\n",
    "imgs = y_test[\"Path\"].values\n",
    "\n",
    "data=[]\n",
    "\n",
    "for img in imgs:\n",
    "    image = Image.open(img)\n",
    "    image = image.resize((30,30))\n",
    "    data.append(np.array(image))\n",
    "\n",
    "X_test=np.array(data)\n",
    "\n",
    "pred = model.predict_classes(X_test)\n",
    "\n",
    "#Calcul de la précision (Accuracy) sur le jeu de test\n",
    "from sklearn.metrics import accuracy_score\n",
    "print(accuracy_score(labels, pred))\n",
    "\n",
    "\n"
   ]
  },
  {
   "cell_type": "markdown",
   "metadata": {},
   "source": [
    "On va enregistrer le modèle que nous avons formé à l'aide de la fonction Keras model.save ().\n",
    "\n"
   ]
  },
  {
   "cell_type": "code",
   "execution_count": 16,
   "metadata": {},
   "outputs": [],
   "source": [
    "model.save(\"traffic_classifier.h5\")"
   ]
  },
  {
   "cell_type": "markdown",
   "metadata": {},
   "source": [
    "**CONCLUSION**:\n",
    "nous avons bien classé le classificateur des panneaux de signalisation avec une précision de 95% \n",
    "et avons également visualisé comment notre précision et notre perte changent avec le temps, ce qui est plutôt bon\n",
    "à partir d'un simple modèle CNN."
   ]
  },
  {
   "cell_type": "markdown",
   "metadata": {},
   "source": [
    "# interface graphique détecteur de panneaux de signalisation"
   ]
  },
  {
   "cell_type": "markdown",
   "metadata": {},
   "source": [
    "Nous allons maintenant créer une interface utilisateur graphique pour notre classificateur de panneaux de signalisation\n",
    "avec Tkinter. On va Créer un nouveau fichier dans le dossier du projet et copiez le code ci-dessous.\n",
    "Enregistrez-le sous gui.py et vous pouvez exécuter le code en tapant python gui.py dans la ligne de commande.\n",
    "\n",
    "Dans ce fichier, nous avons d’abord chargé le modèle entraîné ‘traffic_classifier.h5’ en utilisant Keras. \n",
    "Et puis nous construisons l'interface graphique pour télécharger l'image et un bouton est utilisé pour classifier\n",
    "qui appelle la fonction classify (). La fonction classify () convertit l'image en dimension de forme\n",
    "(1, 30, 30, 3). En effet, pour prédire le panneau de signalisation, nous devons fournir la même dimension \n",
    "que nous avons utilisée lors de la construction du modèle. Ensuite, nous prédisons la classe,\n",
    "le model.predict_classes (image) nous renvoie un nombre entre (0-42) qui représente la classe à laquelle \n",
    "il appartient. Nous utilisons le dictionnaire pour obtenir les informations sur la classe.\n",
    "Voici le code du fichier gui.py.\n",
    "\n"
   ]
  },
  {
   "cell_type": "code",
   "execution_count": 17,
   "metadata": {},
   "outputs": [
    {
     "name": "stdout",
     "output_type": "stream",
     "text": [
      "Autres dangers\n",
      "limitation de vitesse (30km/h)\n"
     ]
    }
   ],
   "source": [
    "import tkinter as tk\n",
    "from tkinter import filedialog\n",
    "from tkinter import *\n",
    "from PIL import ImageTk, Image\n",
    "\n",
    "import numpy\n",
    "#load the trained model to classify sign\n",
    "from keras.models import load_model\n",
    "model = load_model('traffic_classifier.h5')\n",
    "\n",
    "#dictionary to label all traffic signs class.\n",
    "classes = { 1:'limitation de vitesse (20km/h)',\n",
    "            2:'limitation de vitesse (30km/h)', \n",
    "            3:'limitation de vitesse (50km/h)', \n",
    "            4:'limitation de vitesse (60km/h)', \n",
    "            5:'limitation de vitesse (70km/h)', \n",
    "            6:'limitation de vitesse (80km/h)', \n",
    "            7:'Fin de limitation de vitesse (80km/h)', \n",
    "            8:'limitation de vitesse (100km/h)', \n",
    "            9:'limitation de vitesse (120km/h)', \n",
    "            10:'Dépassement Interdit', \n",
    "            11:'Aucun véhicule passant de plus de 3,5 tonnes', \n",
    "            12:'Priorité ponctuelle', \n",
    "            13:'Route prioritaire', \n",
    "            14:'Cedez le passage', \n",
    "            15:'Stop', \n",
    "            16:'Circulation interdite', \n",
    "            17:'Interdit aux véhicules de plus de 3t', \n",
    "            18:'Sens interdit', \n",
    "            19:'Autres dangers', \n",
    "            20:'Virage à gauche', \n",
    "            21:'Virage à droite', \n",
    "            22:'Succession de virages', \n",
    "            23:'Dos âne', \n",
    "            24:'Chaussée glissante', \n",
    "            25:'Chaussée rétrécie par la droite', \n",
    "            26:'Travaux', \n",
    "            27:'Feux tricolores', \n",
    "            28:'Passage piétons', \n",
    "            29:'Lieu fréquenté par les enfants', \n",
    "            30:'Passage de cyclistes', \n",
    "            31:'Attention neige ou glace',\n",
    "            32:'Passage animaux sauvages', \n",
    "            33:'Fin de limitation de vitesse', \n",
    "            34:'Obligation de tourner à droite', \n",
    "            35:'Obligation de tourner à gauche', \n",
    "            36:'Obligation aller tout droit', \n",
    "            37:'Aller tout droit ou à droite', \n",
    "            38:'Aller tout droit ou à gauche', \n",
    "            39:'Rester à droite', \n",
    "            40:'Rester à gauche', \n",
    "            41:'Rond point obligatoire', \n",
    "            42:'Fin interdiction de dépasser', \n",
    "            43:'Fin interdiction de dépasser pour les véhicules de plus de 3,5 tonnes' }\n",
    "\n",
    "\n",
    "#initialise GUI\n",
    "top=tk.Tk()\n",
    "top.geometry('800x600')\n",
    "top.title('Traffic sign classification')\n",
    "top.configure(background='#CDCDCD')\n",
    "\n",
    "label=Label(top,background='#CDCDCD', font=('arial',15,'bold'))\n",
    "sign_image = Label(top)\n",
    "\n",
    "def classify(file_path):\n",
    "    global label_packed\n",
    "    image = Image.open(file_path)\n",
    "    image = image.resize((30,30))\n",
    "    image = numpy.expand_dims(image, axis=0)\n",
    "    image = numpy.array(image)\n",
    "    pred = model.predict_classes([image])[0]\n",
    "    sign = classes[pred+1]\n",
    "    print(sign)\n",
    "    label.configure(foreground='#011638', text=sign) \n",
    "\n",
    "def show_classify_button(file_path):\n",
    "    classify_b=Button(top,text=\"Classify Image\",command=lambda: classify(file_path),padx=10,pady=5)\n",
    "    classify_b.configure(background='#364156', foreground='white',font=('arial',10,'bold'))\n",
    "    classify_b.place(relx=0.79,rely=0.46)\n",
    "\n",
    "def upload_image():\n",
    "    try:\n",
    "        file_path=filedialog.askopenfilename()\n",
    "        uploaded=Image.open(file_path)\n",
    "        uploaded.thumbnail(((top.winfo_width()/2.25),(top.winfo_height()/2.25)))\n",
    "        im=ImageTk.PhotoImage(uploaded)\n",
    "\n",
    "        sign_image.configure(image=im)\n",
    "        sign_image.image=im\n",
    "        label.configure(text='')\n",
    "        show_classify_button(file_path)\n",
    "    except:\n",
    "        pass\n",
    "\n",
    "upload=Button(top,text=\"Upload an image\",command=upload_image,padx=10,pady=5)\n",
    "upload.configure(background='#364156', foreground='white',font=('arial',10,'bold'))\n",
    "\n",
    "upload.pack(side=BOTTOM,pady=50)\n",
    "sign_image.pack(side=BOTTOM,expand=True)\n",
    "label.pack(side=BOTTOM,expand=True)\n",
    "heading = Label(top, text=\"Know Your Traffic Sign\",pady=20, font=('arial',20,'bold'))\n",
    "heading.configure(background='#CDCDCD',foreground='#364156')\n",
    "heading.pack()\n",
    "top.mainloop()"
   ]
  },
  {
   "cell_type": "markdown",
   "metadata": {},
   "source": [
    "On a réussi à classifier le classificateur des panneaux de signalisation avec une précision de 95% et nous avons \n",
    "également visualisé comment notre précision et notre perte évoluent avec le temps, ce qui est plutôt bon à \n",
    "partir d'un simple modèle CNN."
   ]
  },
  {
   "cell_type": "code",
   "execution_count": null,
   "metadata": {},
   "outputs": [],
   "source": []
  }
 ],
 "metadata": {
  "kernelspec": {
   "display_name": "Python 3",
   "language": "python",
   "name": "python3"
  },
  "language_info": {
   "codemirror_mode": {
    "name": "ipython",
    "version": 3
   },
   "file_extension": ".py",
   "mimetype": "text/x-python",
   "name": "python",
   "nbconvert_exporter": "python",
   "pygments_lexer": "ipython3",
   "version": "3.8.3"
  }
 },
 "nbformat": 4,
 "nbformat_minor": 4
}
